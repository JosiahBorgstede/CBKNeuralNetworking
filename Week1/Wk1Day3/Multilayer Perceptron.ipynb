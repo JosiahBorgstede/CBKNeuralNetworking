{
 "cells": [
  {
   "cell_type": "code",
   "execution_count": 28,
   "metadata": {},
   "outputs": [],
   "source": [
    "# Include the location of the other Python installation's packages\n",
    "import sys\n",
    "sys.path.append('C:\\Program Files\\Python37\\Lib\\site-packages')\n",
    "\n",
    "# Import the packages we need\n",
    "import torch # Dataloader\n",
    "import torchvision # MNIST\n",
    "import numpy as np # Matrix operations\n",
    "import matplotlib.pyplot as plt # Plotting and image display"
   ]
  },
  {
   "cell_type": "code",
   "execution_count": 124,
   "metadata": {},
   "outputs": [],
   "source": [
    "# Make an object we can create multiple of and interact with\n",
    "class MultilayerPerceptron:\n",
    "    def __init__(self, learning_rate=0.001):\n",
    "        self.learning_rate = learning_rate\n",
    "        self.w = np.random.normal(0, 0.1, (2, 2))\n",
    "        self.v = np.random.normal(0, 0.1, (2, 1))\n",
    "        \n",
    "        self.b = np.random.normal(0,0.1, (2,1))\n",
    "        self.c = np.random.normal(0, 0.1, 1)\n",
    "        \n",
    "        \n",
    "    def predict(self, x):\n",
    "        self.Q = x[:, 0]*self.w[0, 0] + x[:, 1]*self.w[0, 1] + self.b[0]\n",
    "        self.H = x[:, 0]*self.w[1, 0] + x[:, 1]*self.w[1, 1] + self.b[1]\n",
    "        \n",
    "        result = self.v[0]*np.tanh(self.Q) + self.v[1]*np.tanh(self.H) + self.c\n",
    "        result = result >= 0\n",
    "        return result.astype(float)\n",
    "    \n",
    "    \n",
    "    def train(self, inputs, labels):\n",
    "        for x, label in zip(inputs, labels):\n",
    "            \n",
    "            self.Q = x[0]*self.w[0, 0] + x[1]*self.w[0, 1] + self.b[0]\n",
    "            self.H = x[0]*self.w[1, 0] + x[1]*self.w[1, 1] + self.b[1]\n",
    "        \n",
    "            result = self.v[0]*np.tanh(self.Q) + self.v[1]*np.tanh(self.H) + self.c\n",
    "            result = result >= 0\n",
    "            \n",
    "            E = result.astype(float) - label\n",
    "            \n",
    "            #print(\"E: \" + str(E))\n",
    "            #print(\"Q:\" + str(self.Q))\n",
    "            #print(\"H:\" + str(self.H))\n",
    "            \n",
    "            self.v[0] -= E*np.tanh(self.Q)\n",
    "            self.v[1] -= E*np.tanh(self.H)\n",
    "            \n",
    "            self.c -= E\n",
    "            #print(self.c)\n",
    "            self.w[0, :] -= E * (1 - np.power(np.tanh(self.Q), 2)) * x\n",
    "            self.w[1, :] -= E * (1 - np.power(np.tanh(self.H), 2)) * x\n",
    "            #print(self.w)\n",
    "            self.b[0] -= E * (1 - np.power(np.tanh(self.Q), 2))\n",
    "            self.b[1] -= E * (1 - np.power(np.tanh(self.H), 2))\n",
    "            #print(self.b)\n",
    "                \n",
    "            "
   ]
  },
  {
   "cell_type": "code",
   "execution_count": 168,
   "metadata": {},
   "outputs": [],
   "source": [
    "input_data = np.array([[1.0, 1], [0, 1], [1, 0], [0, 0]])\n",
    "input_labels = np.array([0.0, 1, 1, 0])\n",
    "test_data = np.array([[1.0, 1], [0, 1],  [0, 0], [0, 1], [1, 0], [1, 0], [0, 0], [1.0, 1], [0, 0], [0, 1]])\n",
    "test_labels = np.array([0, 1, 0, 1, 1, 1, 0, 0, 0, 1])"
   ]
  },
  {
   "cell_type": "code",
   "execution_count": 214,
   "metadata": {},
   "outputs": [],
   "source": [
    "per = MultilayerPerceptron()\n",
    "for i in range(100000):\n",
    "    per.train(test_data, test_labels)"
   ]
  },
  {
   "cell_type": "code",
   "execution_count": 215,
   "metadata": {},
   "outputs": [
    {
     "name": "stdout",
     "output_type": "stream",
     "text": [
      "[1. 1. 1. 0.]\n",
      "[0. 1. 1. 0.]\n"
     ]
    }
   ],
   "source": [
    "\n",
    "out = per.predict(input_data)\n",
    "    \n",
    "print(out)\n",
    "print(input_labels)"
   ]
  },
  {
   "cell_type": "code",
   "execution_count": null,
   "metadata": {},
   "outputs": [],
   "source": []
  },
  {
   "cell_type": "code",
   "execution_count": null,
   "metadata": {},
   "outputs": [],
   "source": []
  }
 ],
 "metadata": {
  "kernelspec": {
   "display_name": "Python 3",
   "language": "python",
   "name": "python3"
  },
  "language_info": {
   "codemirror_mode": {
    "name": "ipython",
    "version": 3
   },
   "file_extension": ".py",
   "mimetype": "text/x-python",
   "name": "python",
   "nbconvert_exporter": "python",
   "pygments_lexer": "ipython3",
   "version": "3.7.3"
  }
 },
 "nbformat": 4,
 "nbformat_minor": 2
}

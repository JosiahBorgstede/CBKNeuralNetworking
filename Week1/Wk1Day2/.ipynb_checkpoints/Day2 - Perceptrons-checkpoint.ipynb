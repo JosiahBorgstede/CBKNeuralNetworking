{
 "cells": [
  {
   "cell_type": "markdown",
   "metadata": {},
   "source": [
    "# Import statements and comment example"
   ]
  },
  {
   "cell_type": "code",
   "execution_count": 4,
   "metadata": {},
   "outputs": [],
   "source": [
    "# Include the location of the other Python installation's packages\n",
    "import sys\n",
    "sys.path.append('C:\\Program Files\\Python37\\Lib\\site-packages')\n",
    "\n",
    "# Import the packages we need\n",
    "import torch # Dataloader\n",
    "import torchvision # MNIST\n",
    "import numpy as np # Matrix operations\n",
    "import matplotlib.pyplot as plt # Plotting and image display"
   ]
  },
  {
   "cell_type": "code",
   "execution_count": null,
   "metadata": {
    "collapsed": true
   },
   "outputs": [],
   "source": [
    "# this is a comment\n",
    "this is not longer a comment # this line will give an error\n",
    "\n",
    "'''this is\n",
    "a longer comment''' # This is really a multiline string but Python doesn't do anything with it"
   ]
  },
  {
   "cell_type": "markdown",
   "metadata": {},
   "source": [
    "# Dataset loading"
   ]
  },
  {
   "cell_type": "code",
   "execution_count": 49,
   "metadata": {},
   "outputs": [],
   "source": [
    "# Convert incoming values into tensors, then have the mean of the entire dataset be zero (subtract the 0.1307)\n",
    "# and the standard deviation be 1 (divide by the 0.3081 after subtracting)\n",
    "transform = torchvision.transforms.Compose([torchvision.transforms.ToTensor(),\n",
    "                                            torchvision.transforms.Normalize((0.1307,), (0.3081,))])\n",
    "\n",
    "# Get the MNIST dataset for both the training and testing set\n",
    "train_dataset = torchvision.datasets.MNIST('./MNIST/', train=True, transform=transform, download=True)\n",
    "test_dataset = torchvision.datasets.MNIST('./MNIST/', train=False, transform=transform, download=True)\n",
    "\n",
    "# Put the datasets into a dataloader\n",
    "train_loader = torch.utils.data.DataLoader(train_dataset, batch_size=len(train_dataset))\n",
    "test_loader = torch.utils.data.DataLoader(test_dataset, batch_size=len(test_dataset))"
   ]
  },
  {
   "cell_type": "code",
   "execution_count": 50,
   "metadata": {},
   "outputs": [],
   "source": [
    "# Load the training and testing sets into memory and convert them to numpy arrays\n",
    "train_dataset_array = next(iter(train_loader))[0].numpy()\n",
    "# Convert the data from 28x28 images to 1x784 vectors\n",
    "# The -1 is a stand-in that lets numpy figure out the first shape by itself\n",
    "# We will end up with a 60000x784 matrix\n",
    "train_dataset_array = train_dataset_array.reshape((-1, 784))\n",
    "\n",
    "\n",
    "test_dataset_array = next(iter(test_loader))[0].numpy()\n",
    "# This is 10000x784\n",
    "test_dataset_array = test_dataset_array.reshape((-1, 784))"
   ]
  },
  {
   "cell_type": "code",
   "execution_count": 51,
   "metadata": {},
   "outputs": [],
   "source": [
    "# Load the labels - this will be 60000x1\n",
    "train_dataset_labels = next(iter(train_loader))[1].numpy()\n",
    "\n",
    "test_dataset_labels = next(iter(test_loader))[1].numpy()"
   ]
  },
  {
   "cell_type": "code",
   "execution_count": 103,
   "metadata": {},
   "outputs": [
    {
     "data": {
      "image/png": "[encoded data removed]",
      "text/plain": [
       "<Figure size 432x288 with 9 Axes>"
      ]
     },
     "metadata": {
      "needs_background": "light"
     },
     "output_type": "display_data"
    }
   ],
   "source": [
    "fig = plt.figure() # Make something we can draw on\n",
    "plt.axis('off')\n",
    "for i in range(9): #i will go through 0, 1, 2, 3, 4, 5 and do the tabbed code once for each\n",
    "    plt.subplot(3, 3, i+1) # On a portion of the figure\n",
    "    # Draw the image (reshaped back into a 28x28 image)\n",
    "    plt.imshow(train_dataset_array[i+580].reshape(28, 28), cmap='Accent', interpolation='none')\n",
    "        \n",
    "\n"
   ]
  },
  {
   "cell_type": "markdown",
   "metadata": {},
   "source": [
    "# Standard Perceptron"
   ]
  },
  {
   "cell_type": "code",
   "execution_count": 345,
   "metadata": {},
   "outputs": [],
   "source": [
    "# Make an object we can create multiple of and interact with\n",
    "class Perceptron:\n",
    "    def __init__(self, num_inputs, learning_rate=0.001):\n",
    "        '''This is a constructor, which is used when a Perceptron is made.\n",
    "           It requires the number of inputs to be set.\n",
    "           The learning rate can be set, but if it is not, it defaults to 0.001'''\n",
    "        self.learning_rate = learning_rate\n",
    "        self.weights = np.zeros(num_inputs)\n",
    "        self.bias = 0\n",
    "        self.best_weights = np.zeros(num_inputs)\n",
    "        \n",
    "    def predict(self, x):\n",
    "        '''Given an (n x num_inputs) matrix, \n",
    "           turn it into an (n x 1) vector of zeros and ones by using some variation of\n",
    "           f(x) = w.T * x >= 0'''\n",
    "        \n",
    "        # IMPLEMENT THIS\n",
    "        # np.dot(a, b) will take the dot product of a and b\n",
    "        result = np.dot(x, self.weights)\n",
    "        result = result >= 0 #-1*self.bias\n",
    "        return result.astype(float)\n",
    "        \n",
    "    def train(self, inputs, labels):\n",
    "        '''Given a set of inputs and their labels,\n",
    "           continuously train with them'''\n",
    "        self.weights = self.weights + 0.9\n",
    "        for x, label in zip(inputs, labels):\n",
    "            output = self.predict(x)\n",
    "            self.weights = self.weights + self.learning_rate*(label - output)*x\n",
    "            #self.bias = self.bias + self.learning_rate*(label - output)\n",
    "            \n",
    "                \n",
    "            "
   ]
  },
  {
   "cell_type": "code",
   "execution_count": 346,
   "metadata": {},
   "outputs": [],
   "source": [
    "# Make a perceptron with 784 inputs\n",
    "per = Perceptron(784)"
   ]
  },
  {
   "cell_type": "code",
   "execution_count": 347,
   "metadata": {
    "scrolled": true
   },
   "outputs": [
    {
     "name": "stdout",
     "output_type": "stream",
     "text": [
      "8455 / 10000\n",
      "8499 / 10000\n",
      "8540 / 10000\n",
      "8553 / 10000\n",
      "8579 / 10000\n",
      "8571 / 10000\n",
      "8594 / 10000\n",
      "8602 / 10000\n",
      "8609 / 10000\n",
      "8596 / 10000\n",
      "85.598\n"
     ]
    }
   ],
   "source": [
    "# Convert the labels into a true/false question (in this case is the digit greater than 4)\n",
    "train_question = train_dataset_labels >= 5\n",
    "test_question = test_dataset_labels >= 5\n",
    "iterations = 10\n",
    "overall = 0\n",
    "better_acc = 0\n",
    "for i in range(iterations): # Go through the dataset 10 times\n",
    "    # Train on the training set\n",
    "    per.train(train_dataset_array, train_question)\n",
    "    \n",
    "    # Get predictions on the test set\n",
    "    out = per.predict(test_dataset_array)\n",
    "    \n",
    "    # Print how many were correct on the test set\n",
    "    print('{} / {}'.format(np.sum(np.equal(out, test_question)), 10000))\n",
    "    \n",
    "    overall = overall + np.sum(np.equal(out, test_question))\n",
    "    \n",
    "average = (overall/(iterations*10000))*100\n",
    "print(average)\n",
    "\n",
    "    "
   ]
  },
  {
   "cell_type": "code",
   "execution_count": 336,
   "metadata": {},
   "outputs": [
    {
     "data": {
      "text/plain": [
       "<matplotlib.image.AxesImage at 0x25b2792e5f8>"
      ]
     },
     "execution_count": 336,
     "metadata": {},
     "output_type": "execute_result"
    },
    {
     "data": {
      "image/png": "[encoded data removed]",
      "text/plain": [
       "<Figure size 720x720 with 1 Axes>"
      ]
     },
     "metadata": {
      "needs_background": "light"
     },
     "output_type": "display_data"
    }
   ],
   "source": [
    "# What does the weight vector look like as an image?\n",
    "fig = plt.figure(figsize=(10, 10))   \n",
    "plt.imshow(per.weights.reshape(28, 28), cmap='gray', interpolation='none')"
   ]
  },
  {
   "cell_type": "markdown",
   "metadata": {},
   "source": [
    "Challenges for after the perceptron is working:\n",
    "\n",
    "1. What can you interpret about the image of the weight vector?\n",
    "2. Add a bias - an element in the weight vector that always receives the input 1\n",
    "3. Implement multiclass perceptrons below\n",
    "4. What can you interpret about the images of the weight vectors?\n",
    "5. Increase the size of the dataset by adding small amounts of noise to training samples.  How does this change the testing accuracy?"
   ]
  },
  {
   "cell_type": "markdown",
   "metadata": {},
   "source": [
    "# Multiclass perceptron"
   ]
  },
  {
   "cell_type": "code",
   "execution_count": 9,
   "metadata": {},
   "outputs": [],
   "source": [
    "class MulticlassPerceptron:\n",
    "    def __init__(self, num_inputs, num_outputs, learning_rate=0.001):\n",
    "        self.learning_rate = learning_rate\n",
    "        self.weights = np.zeros((num_outputs, num_inputs))\n",
    "        self.bias = np.zeros(num_outputs)\n",
    "    def predict(self, x):\n",
    "        result = np.dot(x, self.weights.T)# - self.bias\n",
    "        return result.astype(float)\n",
    "          \n",
    "    def train(self, inputs, labels):\n",
    "        self.weights = self.weights +0.1\n",
    "        for x, label in zip(inputs, labels):\n",
    "            output = self.predict(x)\n",
    "            self.weights = self.weights + self.learning_rate*np.outer((label - output), x)\n",
    "            #self.bias = self.bias + self.learning_rate*(label- output)"
   ]
  },
  {
   "cell_type": "code",
   "execution_count": 10,
   "metadata": {},
   "outputs": [],
   "source": [
    "# Make the labels into a more useful format\n",
    "one_hot_train = np.zeros((60000, 10))\n",
    "one_hot_train[np.arange(60000), train_dataset_labels] = 1"
   ]
  },
  {
   "cell_type": "code",
   "execution_count": 11,
   "metadata": {},
   "outputs": [],
   "source": [
    "perMulti = MulticlassPerceptron(784, num_outputs=10)"
   ]
  },
  {
   "cell_type": "code",
   "execution_count": 12,
   "metadata": {},
   "outputs": [
    {
     "name": "stdout",
     "output_type": "stream",
     "text": [
      "7261\n",
      "7258\n",
      "7252\n",
      "7242\n",
      "7246\n",
      "7245\n",
      "7241\n",
      "7242\n",
      "7243\n",
      "7240\n",
      "72.47\n"
     ]
    }
   ],
   "source": [
    "overall = 0\n",
    "iterations = 10\n",
    "for i in range(iterations):\n",
    "    perMulti.train(train_dataset_array, one_hot_train)\n",
    "    \n",
    "    out = perMulti.predict(test_dataset_array)\n",
    "    labels = np.argmax(out, axis=1)\n",
    "    \n",
    "    print(np.sum(np.equal(labels, test_dataset_labels)))\n",
    "    overall = overall + np.sum(np.equal(labels, test_dataset_labels))\n",
    "    \n",
    "average = (overall/(iterations*10000))*100\n",
    "print(average)"
   ]
  },
  {
   "cell_type": "code",
   "execution_count": 249,
   "metadata": {
    "scrolled": true
   },
   "outputs": [
    {
     "data": {
      "image/png": "[encoded data removed]",
      "text/plain": [
       "<Figure size 720x1800 with 10 Axes>"
      ]
     },
     "metadata": {
      "needs_background": "light"
     },
     "output_type": "display_data"
    }
   ],
   "source": [
    "import matplotlib.pyplot as plt\n",
    "\n",
    "fig = plt.figure(figsize=(10, 25))\n",
    "for i in range(10):\n",
    "    plt.subplot(5, 2, i+1)\n",
    "    plt.imshow(perMulti.weights[i, :].reshape(28, 28), cmap='gray', interpolation='none')"
   ]
  },
  {
   "cell_type": "code",
   "execution_count": 314,
   "metadata": {},
   "outputs": [],
   "source": [
    "input_array = np.array([[1.0, 1], [1, 0], [0, 1], [0, 0]])\n",
    "labels = np.array([0.0, 1, 1, 0])\n",
    "test_array = np.array([[1.0, 1], [0, 1],[0, 0], [0, 1], [0, 0],[1, 0] ])\n",
    "test_labels = np.array([0, 1, 0, 1, 0, 1])"
   ]
  },
  {
   "cell_type": "code",
   "execution_count": 315,
   "metadata": {},
   "outputs": [],
   "source": [
    "per = Perceptron(2)"
   ]
  },
  {
   "cell_type": "code",
   "execution_count": 316,
   "metadata": {},
   "outputs": [
    {
     "data": {
      "text/plain": [
       "array([0., 0.])"
      ]
     },
     "execution_count": 316,
     "metadata": {},
     "output_type": "execute_result"
    }
   ],
   "source": [
    "per.weights"
   ]
  },
  {
   "cell_type": "code",
   "execution_count": 317,
   "metadata": {},
   "outputs": [
    {
     "name": "stdout",
     "output_type": "stream",
     "text": [
      "3\n",
      "3\n",
      "3\n",
      "3\n",
      "3\n",
      "3\n",
      "3\n",
      "3\n",
      "3\n",
      "3\n"
     ]
    }
   ],
   "source": [
    "train_question = labels >= 1\n",
    "test_question = labels >= 1\n",
    "for i in range(10):\n",
    "    per.train(input_array, train_question)\n",
    "    \n",
    "    out = per.predict(test_array)\n",
    "    print(np.sum(np.equal(out, test_labels)))\n",
    "    "
   ]
  },
  {
   "cell_type": "code",
   "execution_count": 311,
   "metadata": {},
   "outputs": [
    {
     "data": {
      "text/plain": [
       "<matplotlib.image.AxesImage at 0x25b278c2668>"
      ]
     },
     "execution_count": 311,
     "metadata": {},
     "output_type": "execute_result"
    },
    {
     "data": {
      "image/png": "[encoded data removed]",
      "text/plain": [
       "<Figure size 720x720 with 1 Axes>"
      ]
     },
     "metadata": {
      "needs_background": "light"
     },
     "output_type": "display_data"
    }
   ],
   "source": [
    "fig = plt.figure(figsize=(10, 10))   \n",
    "plt.imshow(per.weights.reshape(1, 2), cmap='gray', interpolation='none')"
   ]
  },
  {
   "cell_type": "code",
   "execution_count": null,
   "metadata": {},
   "outputs": [],
   "source": []
  }
 ],
 "metadata": {
  "kernelspec": {
   "display_name": "Python 3",
   "language": "python",
   "name": "python3"
  },
  "language_info": {
   "codemirror_mode": {
    "name": "ipython",
    "version": 3
   },
   "file_extension": ".py",
   "mimetype": "text/x-python",
   "name": "python",
   "nbconvert_exporter": "python",
   "pygments_lexer": "ipython3",
   "version": "3.7.3"
  },
  "latex_envs": {
   "LaTeX_envs_menu_present": true,
   "autoclose": false,
   "autocomplete": true,
   "bibliofile": "biblio.bib",
   "cite_by": "apalike",
   "current_citInitial": 1,
   "eqLabelWithNumbers": true,
   "eqNumInitial": 1,
   "hotkeys": {
    "equation": "Ctrl-E",
    "itemize": "Ctrl-I"
   },
   "labels_anchors": false,
   "latex_user_defs": false,
   "report_style_numbering": false,
   "user_envs_cfg": false
  }
 },
 "nbformat": 4,
 "nbformat_minor": 2
}

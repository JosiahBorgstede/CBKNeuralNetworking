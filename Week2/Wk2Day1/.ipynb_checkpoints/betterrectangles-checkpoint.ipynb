{
 "cells": [
  {
   "cell_type": "code",
   "execution_count": 64,
   "metadata": {},
   "outputs": [],
   "source": [
    "def rect(x, l, r, h):    \n",
    "    w = 1e20\n",
    "    y = h/2*np.tanh(w*x + w*-l) - h/2*np.tanh(w*x + w*-r)  \n",
    "    return y"
   ]
  },
  {
   "cell_type": "code",
   "execution_count": 135,
   "metadata": {},
   "outputs": [],
   "source": [
    "func = np.arcsin"
   ]
  },
  {
   "cell_type": "code",
   "execution_count": 136,
   "metadata": {},
   "outputs": [],
   "source": [
    "def reimannSum(x_min, x_max, num_rect, func):\n",
    "    y = 0.0\n",
    "    rectW = (x_max - x_min) / num_rect\n",
    "    curLeft = x_min\n",
    "    for i in range(num_rect):\n",
    "        curY = rect(x, curLeft, curLeft+rectW, func(curLeft + rectW/2))\n",
    "        y += curY\n",
    "        curLeft += rectW\n",
    "    plt.plot(x, y)"
   ]
  },
  {
   "cell_type": "code",
   "execution_count": 138,
   "metadata": {},
   "outputs": [
    {
     "name": "stderr",
     "output_type": "stream",
     "text": [
      "C:\\ProgramData\\Anaconda3\\lib\\site-packages\\ipykernel_launcher.py:12: RuntimeWarning: invalid value encountered in arcsin\n",
      "  if sys.path[0] == '':\n"
     ]
    },
    {
     "data": {
      "text/plain": [
       "<Figure size 432x288 with 0 Axes>"
      ]
     },
     "metadata": {},
     "output_type": "display_data"
    },
    {
     "data": {
      "image/png": "[encoded data removed]",
      "text/plain": [
       "<Figure size 432x288 with 1 Axes>"
      ]
     },
     "metadata": {
      "needs_background": "light"
     },
     "output_type": "display_data"
    }
   ],
   "source": [
    "import numpy as np\n",
    "import matplotlib.pyplot as plt\n",
    "fig = plt.figure()\n",
    "\n",
    "num_rect = 30\n",
    "x_min = -10\n",
    "x_max = 10\n",
    "\n",
    "x = np.linspace(x_min, x_max, 10000)\n",
    "fig = plt.figure()\n",
    "\n",
    "f = func(x)\n",
    "\n",
    "\n",
    "reimannSum(-1, 1, num_rect, func)\n",
    "reimannSum(x_min, x_max, num_rect, np.tanh)\n",
    "\n",
    "#plt.plot(x, f)\n",
    "#plt.plot(x, np.tanh(x))\n",
    "plt.show()"
   ]
  },
  {
   "cell_type": "code",
   "execution_count": null,
   "metadata": {},
   "outputs": [],
   "source": []
  },
  {
   "cell_type": "code",
   "execution_count": null,
   "metadata": {},
   "outputs": [],
   "source": []
  }
 ],
 "metadata": {
  "kernelspec": {
   "display_name": "Python 3",
   "language": "python",
   "name": "python3"
  },
  "language_info": {
   "codemirror_mode": {
    "name": "ipython",
    "version": 3
   },
   "file_extension": ".py",
   "mimetype": "text/x-python",
   "name": "python",
   "nbconvert_exporter": "python",
   "pygments_lexer": "ipython3",
   "version": "3.7.3"
  }
 },
 "nbformat": 4,
 "nbformat_minor": 2
}
